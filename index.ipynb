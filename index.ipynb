{
 "cells": [
  {
   "cell_type": "markdown",
   "metadata": {},
   "source": [
    "# Dash Altogether Now\n",
    "\n",
    "UID\tBLOCKID\tSUMLEVEL\tCOUNTYID\tSTATEID\tstate\tstate_ab\tcity\tplace\ttype\tprimary\tzip_code\tarea_code\tlat\tlng\tALand\tAWater\tpop\tmale_pop\tfemale_pop\trent_mean\trent_median\trent_stdev\trent_sample_weight\trent_samples\trent_gt_10\trent_gt_15\trent_gt_20\trent_gt_25\trent_gt_30\trent_gt_35\trent_gt_40\trent_gt_50\tuniverse_samples\tused_samples\thi_mean\thi_median\thi_stdev\thi_sample_weight\thi_samples\tfamily_mean\tfamily_median\tfamily_stdev\tfamily_sample_weight\tfamily_samples\thc_mortgage_mean\thc_mortgage_median\thc_mortgage_stdev\thc_mortgage_sample_weight\thc_mortgage_samples\thc_mean\thc_median\thc_stdev\thc_samples\thc_sample_weight\thome_equity_second_mortgage\tsecond_mortgage\thome_equity\tdebt\tsecond_mortgage_cdf\thome_equity_cdf\tdebt_cdf\ths_degree\ths_degree_male\ths_degree_female\tmale_age_mean\tmale_age_median\tmale_age_stdev\tmale_age_sample_weight\tmale_age_samples\tfemale_age_mean\tfemale_age_median\tfemale_age_stdev\tfemale_age_sample_weight\tfemale_age_samples\tpct_own\tmarried\tmarried_snp\tseparated\tdivorced"
   ]
  },
  {
   "cell_type": "markdown",
   "metadata": {},
   "source": [
    "## Introduction\n",
    "In this lab we will be using our skills from flask, dash, pandas, and sqlalchemy to create a dashboard that contains graphs that we can manipulate to show data based on our input. We will be working with a very large dataset containing information on rent and population demographics in the US. We will be using the ETL pattern to create extract, format (or transform), and enter (or load) our data into our database. Let's get started!"
   ]
  },
  {
   "cell_type": "markdown",
   "metadata": {},
   "source": [
    "## Objectives\n",
    "* Instruct to create package directory with __init__.py and instantiate App, and make run file\n",
    "* Instruct to set up database -- import Sqlalchemy and create models -- create_all in terminal\n",
    "* Instruct to use pandas to read the excel file & fillna with 0.0\n",
    "* Walk through ETL Pattern -- uses the data, database, and models to bring information over to our program and easier to use/query\n",
    "* Once database is setup and populated, instruct to create a layout that uses a callback to populate a div's children with a bar graph that has each city's population for a given state\n",
    "* then instruct to add similar graph to layout but with each city's mean_rent"
   ]
  },
  {
   "cell_type": "markdown",
   "metadata": {},
   "source": [
    "## Setting Up a New Dash App"
   ]
  },
  {
   "cell_type": "markdown",
   "metadata": {},
   "source": [
    "First things first. We will need to structure our app and get just our baseline dash app running. We already have our package directory with the name of our app (lesson), `dashaltogethernow`. We also already have our excel file with the data we will be working with, `real_estate_db.xlsx`. Our package should have an `__init__.py` file that imports dash and instantiates a new app with a `url_base_pathname` of `'/dashboard'`. Next, we will need to create our run file in our top-level directory which starts the server for us with debug mode assigned to True.\n",
    "\n",
    "Your directory should look something like this:\n",
    "```python\n",
    "├── CONTRIBUTING.md\n",
    "├── LICENSE.md\n",
    "├── README.md\n",
    "├── dashaltogethernow\n",
    "│   ├── __init__.py\n",
    "│   ├── real_estate_db.xlsx\n",
    "├── index.ipynb\n",
    "├── requirements.txt\n",
    "└── run.py\n",
    "```"
   ]
  },
  {
   "cell_type": "markdown",
   "metadata": {},
   "source": [
    "## Connecting Sqlalechemy and Database Set-up"
   ]
  },
  {
   "cell_type": "markdown",
   "metadata": {},
   "source": [
    "Now that we have our app set up and we are able to run it in the browser, we need to turn our attention to getting our database configured. First, we will need to import sqlalchemy and then tell our database where to store its data. We will need to configure our app's server to save our data to a local sqllite database at `app.db` in our dashaltogethernow package.\n",
    "\n",
    "After we have configured our server to save its data to the `spp.db` file, we need to create our sqlalchemy database object with our sqlalchemy import and our app's server.\n",
    "\n",
    "Once we have created our database object, `db`, we will need to create our models. As is convention, we will create our models in a `models.py` file. We will be using 3 models; State, City, Demograhic. The relationships will be that a state **has many** cities and a city **belongs to** a state, a city **has one** demographic and a demographic **belongs to** a city. Below are a list of the attributes we will need for each model and table.\n",
    "\n",
    "**State** - id, name, state_ab, cities\n",
    "\n",
    "**City** - id, name, type, zip_code, lat, lng, state, state_id, demographic\n",
    "\n",
    "**Demographic** - id, population, male_pop, female_pop, mean_rent, pct_own, pct_married, city, city_id\n",
    "\n",
    "\n",
    "\n",
    "At this point our file tree should now looks like the following:\n",
    "```python\n",
    "├── CONTRIBUTING.md\n",
    "├── LICENSE.md\n",
    "├── README.md\n",
    "├── dashaltogethernow\n",
    "│   ├── __init__.py\n",
    "│   ├── app.db\n",
    "│   ├── models.py\n",
    "│   ├── real_estate_db.xlsx\n",
    "├── index.ipynb\n",
    "├── requirements.txt\n",
    "└── run.py\n",
    "```"
   ]
  },
  {
   "cell_type": "markdown",
   "metadata": {},
   "source": [
    "## Creating Database Models"
   ]
  },
  {
   "cell_type": "markdown",
   "metadata": {},
   "source": []
  },
  {
   "cell_type": "markdown",
   "metadata": {},
   "source": [
    "## Summary"
   ]
  },
  {
   "cell_type": "markdown",
   "metadata": {},
   "source": [
    "Great work! In this lab, we practiced creating a dash app, using both dash corecomponents and dash html components to create a table on our app's dashboard. Then we defined a callback that programmatically sorted our app's table by the selected column from our dropdown element."
   ]
  }
 ],
 "metadata": {
  "kernelspec": {
   "display_name": "Python 3",
   "language": "python",
   "name": "python3"
  },
  "language_info": {
   "codemirror_mode": {
    "name": "ipython",
    "version": 3
   },
   "file_extension": ".py",
   "mimetype": "text/x-python",
   "name": "python",
   "nbconvert_exporter": "python",
   "pygments_lexer": "ipython3",
   "version": "3.6.5"
  }
 },
 "nbformat": 4,
 "nbformat_minor": 2
}
